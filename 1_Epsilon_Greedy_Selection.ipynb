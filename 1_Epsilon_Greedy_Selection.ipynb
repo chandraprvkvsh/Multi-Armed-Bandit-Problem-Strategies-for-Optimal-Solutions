{
 "cells": [
  {
   "cell_type": "markdown",
   "metadata": {},
   "source": [
    "## Epsilon Greedy Selection\n",
    "\n",
    "This demo examines the tradeoff between Exploration and Exploitation. To have a better control, we use a custom implementation of a Multi Armed Bandit that acts similar to Gym environments. "
   ]
  },
  {
   "cell_type": "code",
   "execution_count": 1,
   "metadata": {},
   "outputs": [],
   "source": [
    "import gym\n",
    "import numpy as np\n",
    "import random\n",
    "from matplotlib import pyplot as plot\n",
    "%matplotlib inline"
   ]
  },
  {
   "cell_type": "code",
   "execution_count": 2,
   "metadata": {},
   "outputs": [],
   "source": [
    "from multi_armed_bandit import MultiArmedBandit"
   ]
  },
  {
   "cell_type": "code",
   "execution_count": 3,
   "metadata": {},
   "outputs": [],
   "source": [
    "def create_bandit(reward_dist):\n",
    "    if abs(sum(reward_dist )-1 ) > 0.1e-2:\n",
    "        print(\"Adjust the reward distribution to sum to one..\")\n",
    "    env = MultiArmedBandit(reward_probability_dist=reward_distribution)\n",
    "    num_arms= len(reward_distribution)\n",
    "    return env,num_arms\n",
    "\n",
    "\n"
   ]
  },
  {
   "cell_type": "markdown",
   "metadata": {},
   "source": [
    "Here, we can control the number of bandits and their  behaviour. Below, we have defined a 10 armed Bandit and the 4th Bandit is the best one. The Agent doesnt know this detail and it has to discover it by interacting with the environment. Note that the probability needs to sum to one . "
   ]
  },
  {
   "cell_type": "code",
   "execution_count": 4,
   "metadata": {},
   "outputs": [
    {
     "name": "stdout",
     "output_type": "stream",
     "text": [
      "10\n"
     ]
    }
   ],
   "source": [
    "tot_episodes=200\n",
    "tot_steps =1000\n",
    "reward_distribution = [0.1,0.05,0.05,0.4,0.3,0.02,0.03,0.01,0.01,0.03]\n",
    "env,tot_arms = create_bandit(reward_distribution)\n",
    "tot_arms = len(reward_distribution)\n",
    "print(tot_arms)\n"
   ]
  },
  {
   "cell_type": "code",
   "execution_count": 5,
   "metadata": {
    "scrolled": true
   },
   "outputs": [],
   "source": [
    "def perform_random_multiarm_bandit():\n",
    "    \n",
    "\n",
    "    average_value_function = np.zeros(tot_arms)\n",
    "    cumulated_reward_list = list()\n",
    "\n",
    "\n",
    "    for episode in range(tot_episodes):\n",
    "        cumulated_reward = 0\n",
    "        reward_counter_array = np.zeros(tot_arms)\n",
    "        action_counter_array = np.full(tot_arms, 1.0e-5)\n",
    "        for step in range(tot_steps):\n",
    "            action = np.random.randint(low=0, high=tot_arms)\n",
    "            reward = env.step(action)\n",
    "            reward_counter_array[action] += reward\n",
    "            action_counter_array[action] += 1\n",
    "            cumulated_reward += reward\n",
    "        cumulated_reward_list.append(cumulated_reward)\n",
    "        value_function = np.true_divide(reward_counter_array, action_counter_array)\n",
    "        average_value_function += value_function\n",
    "    return average_value_function,cumulated_reward_list,action_counter_array\n",
    "\n",
    "\n"
   ]
  },
  {
   "cell_type": "code",
   "execution_count": 6,
   "metadata": {},
   "outputs": [
    {
     "name": "stdout",
     "output_type": "stream",
     "text": [
      "100.17\n"
     ]
    }
   ],
   "source": [
    "random_average_value_fn ,random_rewards,random_actions = perform_random_multiarm_bandit()\n",
    "\n",
    "print(np.mean(random_rewards))\n"
   ]
  },
  {
   "cell_type": "code",
   "execution_count": 7,
   "metadata": {},
   "outputs": [
    {
     "data": {
      "text/plain": [
       "Text(0, 0.5, 'Count')"
      ]
     },
     "execution_count": 7,
     "metadata": {},
     "output_type": "execute_result"
    },
    {
     "data": {
      "image/png": "[encoded data removed]",
      "text/plain": [
       "<Figure size 432x288 with 1 Axes>"
      ]
     },
     "metadata": {
      "needs_background": "light"
     },
     "output_type": "display_data"
    }
   ],
   "source": [
    "\n",
    "plot.title(\"Random Selection\")\n",
    "plot.bar(range(1,tot_arms+1),random_actions,width =0.5)\n",
    "plot.xlabel('Action')\n",
    "plot.ylabel('Count')\n"
   ]
  },
  {
   "cell_type": "code",
   "execution_count": 8,
   "metadata": {},
   "outputs": [],
   "source": [
    "def return_greedy_action(reward_counter_array):\n",
    "    amax = np.amax(reward_counter_array)\n",
    "    indices = np.where(reward_counter_array == amax)[0]\n",
    "    action = np.random.choice(indices)\n",
    "    return action\n"
   ]
  },
  {
   "cell_type": "code",
   "execution_count": 9,
   "metadata": {},
   "outputs": [],
   "source": [
    "def perform_greedy_multiarm_bandit():\n",
    "    \n",
    "    average_value_function = np.zeros(tot_arms)\n",
    "    cumulated_reward_list = list()\n",
    "    epsilon = 0.1\n",
    "\n",
    "    for episode in range(tot_episodes):\n",
    "        cumulated_reward = 0\n",
    "        reward_counter_array = np.zeros(tot_arms)\n",
    "        action_counter_array = np.full(tot_arms, 1.0e-5)\n",
    "        for step in range(tot_steps):\n",
    "            action = return_greedy_action(reward_counter_array)\n",
    "            reward = env.step(action)\n",
    "            reward_counter_array[action] += reward\n",
    "            action_counter_array[action] += 1\n",
    "            cumulated_reward += reward\n",
    "        cumulated_reward_list.append(cumulated_reward)\n",
    "        value_function = np.true_divide(reward_counter_array, action_counter_array)\n",
    "        average_value_function += value_function\n",
    "    return average_value_function,cumulated_reward_list,action_counter_array"
   ]
  },
  {
   "cell_type": "code",
   "execution_count": 10,
   "metadata": {},
   "outputs": [],
   "source": [
    "greedy_average_value_fn,greedy_rewards,greedy_actions = perform_greedy_multiarm_bandit()"
   ]
  },
  {
   "cell_type": "code",
   "execution_count": 11,
   "metadata": {},
   "outputs": [
    {
     "data": {
      "text/plain": [
       "Text(0, 0.5, 'Count')"
      ]
     },
     "execution_count": 11,
     "metadata": {},
     "output_type": "execute_result"
    },
    {
     "data": {
      "image/png": "[encoded data removed]",
      "text/plain": [
       "<Figure size 432x288 with 1 Axes>"
      ]
     },
     "metadata": {
      "needs_background": "light"
     },
     "output_type": "display_data"
    }
   ],
   "source": [
    "plot.title(\"Greedy Selection\")\n",
    "plot.bar(range(1,tot_arms+1),greedy_actions,width =0.5)\n",
    "plot.xlabel('Action')\n",
    "plot.ylabel('Count')"
   ]
  },
  {
   "cell_type": "markdown",
   "metadata": {},
   "source": [
    "In Epsilon Greedy method, Epsilon  determines the trade off between Exploration and Exploitation. Let us perform the same experiment with different epsilon values."
   ]
  },
  {
   "cell_type": "code",
   "execution_count": 12,
   "metadata": {},
   "outputs": [],
   "source": [
    "def return_epsilon_greedy_action(epsilon, reward_counter_array):\n",
    "    \n",
    "    tot_actions = reward_counter_array.shape[0]\n",
    "    if random.uniform(0, 1) <= epsilon:\n",
    "        action = np.random.randint(low=0, high=tot_actions)\n",
    "    else:\n",
    "        amax = np.amax(reward_counter_array)\n",
    "        indices = np.where(reward_counter_array == amax)[0]\n",
    "        action = np.random.choice(indices)\n",
    "    return action"
   ]
  },
  {
   "cell_type": "code",
   "execution_count": 13,
   "metadata": {},
   "outputs": [],
   "source": [
    "def perform_epsilon_greedy_multiarm_bandit(epsilon=0.1):\n",
    "\n",
    "    average_value_function = np.zeros(tot_arms)\n",
    "    cumulated_reward_list = list()\n",
    "    \n",
    "\n",
    "    for episode in range(tot_episodes):\n",
    "        cumulated_reward = 0\n",
    "        reward_counter_array = np.zeros(tot_arms)\n",
    "        action_counter_array = np.full(tot_arms, 1.0e-5)\n",
    "        for step in range(tot_steps):\n",
    "\n",
    "            action = return_epsilon_greedy_action(epsilon, np.true_divide(reward_counter_array, action_counter_array))\n",
    "            reward = env.step(action)\n",
    "            reward_counter_array[action] += reward\n",
    "            action_counter_array[action] += 1\n",
    "            cumulated_reward += reward\n",
    "        cumulated_reward_list.append(cumulated_reward)\n",
    "        value_function = np.true_divide(reward_counter_array, action_counter_array)\n",
    "        average_value_function += value_function\n",
    "    return average_value_function,cumulated_reward_list,action_counter_array"
   ]
  },
  {
   "cell_type": "code",
   "execution_count": 14,
   "metadata": {},
   "outputs": [
    {
     "data": {
      "text/plain": [
       "Text(0, 0.5, 'Count')"
      ]
     },
     "execution_count": 14,
     "metadata": {},
     "output_type": "execute_result"
    },
    {
     "data": {
      "image/png": "[encoded data removed]",
      "text/plain": [
       "<Figure size 432x288 with 1 Axes>"
      ]
     },
     "metadata": {
      "needs_background": "light"
     },
     "output_type": "display_data"
    }
   ],
   "source": [
    "\n",
    "ep_greedy_average_value_fn,ep_greedy_rewards,ep_greedy_actions = perform_epsilon_greedy_multiarm_bandit(epsilon=0.1)\n",
    "\n",
    "\n",
    "plot.title(\"Epsilon Greedy Selection\")\n",
    "plot.bar(range(1,tot_arms+1),ep_greedy_actions,width =0.5)\n",
    "plot.xlabel('Action')\n",
    "plot.ylabel('Count')"
   ]
  },
  {
   "cell_type": "code",
   "execution_count": 15,
   "metadata": {},
   "outputs": [
    {
     "name": "stdout",
     "output_type": "stream",
     "text": [
      "330.925\n"
     ]
    }
   ],
   "source": [
    "print(np.mean(ep_greedy_rewards))"
   ]
  },
  {
   "cell_type": "code",
   "execution_count": 16,
   "metadata": {},
   "outputs": [
    {
     "data": {
      "text/plain": [
       "Text(0, 0.5, 'Count')"
      ]
     },
     "execution_count": 16,
     "metadata": {},
     "output_type": "execute_result"
    },
    {
     "data": {
      "image/png": "[encoded data removed]",
      "text/plain": [
       "<Figure size 432x288 with 1 Axes>"
      ]
     },
     "metadata": {
      "needs_background": "light"
     },
     "output_type": "display_data"
    }
   ],
   "source": [
    "ep_greedy_average_value_fn,ep_greedy_rewards,ep_greedy_actions = perform_epsilon_greedy_multiarm_bandit(epsilon=0.5)\n",
    "\n",
    "\n",
    "plot.title(\"Epsilon Greedy Selection\")\n",
    "plot.bar(range(1,tot_arms+1),ep_greedy_actions,width =0.5)\n",
    "plot.xlabel('Action')\n",
    "plot.ylabel('Count')"
   ]
  },
  {
   "cell_type": "code",
   "execution_count": 17,
   "metadata": {},
   "outputs": [
    {
     "name": "stdout",
     "output_type": "stream",
     "text": [
      "237.12\n"
     ]
    }
   ],
   "source": [
    "print(np.mean(ep_greedy_rewards))"
   ]
  },
  {
   "cell_type": "code",
   "execution_count": 18,
   "metadata": {},
   "outputs": [
    {
     "data": {
      "text/plain": [
       "Text(0, 0.5, 'Count')"
      ]
     },
     "execution_count": 18,
     "metadata": {},
     "output_type": "execute_result"
    },
    {
     "data": {
      "image/png": "[encoded data removed]",
      "text/plain": [
       "<Figure size 432x288 with 1 Axes>"
      ]
     },
     "metadata": {
      "needs_background": "light"
     },
     "output_type": "display_data"
    }
   ],
   "source": [
    "ep_greedy_average_value_fn,ep_greedy_rewards,ep_greedy_actions = perform_epsilon_greedy_multiarm_bandit(epsilon=0.9)\n",
    "\n",
    "plot.title(\"Epsilon Greedy Selection\")\n",
    "plot.bar(range(1,tot_arms+1),ep_greedy_actions,width =0.5)\n",
    "plot.xlabel('Action')\n",
    "plot.ylabel('Count')"
   ]
  },
  {
   "cell_type": "code",
   "execution_count": 19,
   "metadata": {},
   "outputs": [
    {
     "name": "stdout",
     "output_type": "stream",
     "text": [
      "128.34\n"
     ]
    }
   ],
   "source": [
    "print(np.mean(ep_greedy_rewards))"
   ]
  },
  {
   "cell_type": "code",
   "execution_count": 20,
   "metadata": {},
   "outputs": [
    {
     "data": {
      "text/plain": [
       "Text(0, 0.5, 'Count')"
      ]
     },
     "execution_count": 20,
     "metadata": {},
     "output_type": "execute_result"
    },
    {
     "data": {
      "image/png": "[encoded data removed]",
      "text/plain": [
       "<Figure size 432x288 with 1 Axes>"
      ]
     },
     "metadata": {
      "needs_background": "light"
     },
     "output_type": "display_data"
    }
   ],
   "source": [
    "ep_greedy_average_value_fn,ep_greedy_rewards,ep_greedy_actions = perform_epsilon_greedy_multiarm_bandit(epsilon=0.0)\n",
    "\n",
    "plot.title(\"Epsilon Greedy Selection\")\n",
    "plot.bar(range(1,tot_arms+1),ep_greedy_actions,width =0.5)\n",
    "plot.xlabel('Action')\n",
    "plot.ylabel('Count')"
   ]
  },
  {
   "cell_type": "code",
   "execution_count": null,
   "metadata": {},
   "outputs": [],
   "source": []
  },
  {
   "cell_type": "code",
   "execution_count": null,
   "metadata": {},
   "outputs": [],
   "source": []
  },
  {
   "cell_type": "code",
   "execution_count": null,
   "metadata": {},
   "outputs": [],
   "source": []
  },
  {
   "cell_type": "code",
   "execution_count": null,
   "metadata": {},
   "outputs": [],
   "source": []
  }
 ],
 "metadata": {
  "kernelspec": {
   "display_name": "Python 3",
   "language": "python",
   "name": "python3"
  },
  "language_info": {
   "codemirror_mode": {
    "name": "ipython",
    "version": 3
   },
   "file_extension": ".py",
   "mimetype": "text/x-python",
   "name": "python",
   "nbconvert_exporter": "python",
   "pygments_lexer": "ipython3",
   "version": "3.7.6"
  }
 },
 "nbformat": 4,
 "nbformat_minor": 2
}
